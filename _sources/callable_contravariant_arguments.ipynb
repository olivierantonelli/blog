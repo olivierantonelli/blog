{
 "cells": [
  {
   "cell_type": "markdown",
   "metadata": {
    "vscode": {
     "languageId": "raw"
    }
   },
   "source": [
    "# A callable is contravariant in its arguments"
   ]
  },
  {
   "cell_type": "markdown",
   "metadata": {
    "vscode": {
     "languageId": "raw"
    }
   },
   "source": [
    "In december 2024 I became interested in \"PEP 483 – The Theory of Type Hints\" and particulary Covariance and Contravariance as described in https://peps.python.org/pep-0483/#covariance-and-contravariance.\n",
    "\n",
    "The subject of covariance and contravariance in programming is not an easy topic. Here is what I understand of this topic, at least for a callable.\n",
    "\n",
    "As defined in PEP 483 :\n",
    "\n",
    "If t2 is a subtype of t1, then a generic type constructor GenType is called:\n",
    "\n",
    "Covariant, if GenType[t2] is a subtype of GenType[t1] for all such t1 and t2.\n",
    "Contravariant, if GenType[t1] is a subtype of GenType[t2] for all such t1 and t2.\n",
    "Invariant, if neither of the above is true.\n",
    "Later on, it is said that \"a callable is covariant in the return type, but contravariant in the arguments\" so :\n",
    "\n",
    "Callable[[], Manager] is a subtype of Callable[[], Employee]\n",
    "Callable[[Employee], None] is a subtype of Callable[[Manager], None]\n",
    "It seems natural that a callable would be covarient in the return type but why contravariant in the arguments ? An example is given in the PEP 483 but I struggled to understand well this concept so I made my own program based on the example given in the PEP to understand better.\n",
    "\n",
    "Lets suppose we have a companie with managers and employees. The salary of an employee (not manager) is just his base_salary and for a manager it is (for example) base_salary + 100 * number_of_subordonates :"
   ]
  },
  {
   "cell_type": "code",
   "execution_count": 1,
   "metadata": {},
   "outputs": [],
   "source": [
    "\n",
    "from collections.abc import Callable\n",
    "from functools import partial\n",
    "\n",
    "\n",
    "class Employee:\n",
    "    def __init__(self, name: str, base_salary: float):\n",
    "        self.name = name\n",
    "        self.base_salary = base_salary\n",
    "\n",
    "\n",
    "class Manager(Employee):\n",
    "    def __init__(self, name: str, base_salary: float, number_of_subordonates: int):\n",
    "        self.number_of_subordonates = number_of_subordonates\n",
    "        super().__init__(name, base_salary)\n",
    "\n",
    "\n",
    "def salary_employee(employee: Employee) -> float:\n",
    "    return employee.base_salary\n",
    "\n",
    "\n",
    "def salary_manager(manager: Manager) -> float:\n",
    "    return manager.base_salary + 100 * manager.number_of_subordonates"
   ]
  },
  {
   "cell_type": "markdown",
   "metadata": {
    "vscode": {
     "languageId": "raw"
    }
   },
   "source": [
    "From a tuple of managers or salaries, I want to be able to compute the total cost of their salaries for my company using a Callable[[Employee], float] like salary_employee and same thing for managers :"
   ]
  },
  {
   "cell_type": "code",
   "execution_count": 2,
   "metadata": {},
   "outputs": [],
   "source": [
    "def sum_all_manager_salary(\n",
    "    tup: tuple[Manager], salary: Callable[[Manager], float]\n",
    ") -> float:\n",
    "    return sum(salary(x) for x in tup)\n",
    "\n",
    "\n",
    "def sum_all_employee_salary(\n",
    "    tup: tuple[Employee], salary: Callable[[Employee], float]\n",
    ") -> float:\n",
    "    return sum(salary(x) for x in tup)"
   ]
  },
  {
   "cell_type": "markdown",
   "metadata": {
    "vscode": {
     "languageId": "raw"
    }
   },
   "source": [
    "Now I define a couple of managers and employees and use them to define two functions to compute the total cost of these managers and employees with functions to compute individual salaries for employees and managers to be given as arguments (Here I should define 10 employee but for this example, I just define two of them) :"
   ]
  },
  {
   "cell_type": "code",
   "execution_count": 3,
   "metadata": {},
   "outputs": [],
   "source": [
    "tup_manager = (Manager(\"Bob\", 3000, 7), Manager(\"Alice\", 4000, 3))\n",
    "tup_employee = (Employee(\"Mike\", 2000), Employee(\"Ed\", 1000))\n",
    "get_sum_all_manager_salary = partial(sum_all_manager_salary, tup_manager)\n",
    "get_sum_all_employee_salary = partial(sum_all_employee_salary, tup_employee)"
   ]
  },
  {
   "cell_type": "markdown",
   "metadata": {
    "vscode": {
     "languageId": "raw"
    }
   },
   "source": [
    "Let's try now to execute these functions to find the cost for my company of my managers and employees :"
   ]
  },
  {
   "cell_type": "code",
   "execution_count": 4,
   "metadata": {},
   "outputs": [
    {
     "name": "stdout",
     "output_type": "stream",
     "text": [
      "Total salary of all my managers : 8000\n",
      "Total salary of all my employees not managers : 3000\n"
     ]
    }
   ],
   "source": [
    "print(\n",
    "    \"Total salary of all my managers :\", get_sum_all_manager_salary(salary=salary_manager)\n",
    ")\n",
    "\n",
    "print(\n",
    "    \"Total salary of all my employees not managers :\",\n",
    "    get_sum_all_employee_salary(salary=salary_employee),\n",
    ")"
   ]
  },
  {
   "cell_type": "markdown",
   "metadata": {
    "vscode": {
     "languageId": "raw"
    }
   },
   "source": [
    "Can I use the function salary_employee with get_sum_all_manager_salary ?"
   ]
  },
  {
   "cell_type": "code",
   "execution_count": 5,
   "metadata": {},
   "outputs": [
    {
     "name": "stdout",
     "output_type": "stream",
     "text": [
      "Total salary of all my managers (but computed as employees not managers) : 7000\n"
     ]
    }
   ],
   "source": [
    "print(\n",
    "    \"Total salary of all my managers (but computed as employees not managers) :\",\n",
    "    get_sum_all_manager_salary(salary=salary_employee),\n",
    ")"
   ]
  },
  {
   "cell_type": "markdown",
   "metadata": {
    "vscode": {
     "languageId": "raw"
    }
   },
   "source": [
    "It works ! Of course the managers won't be happy to lose their bonus proportional to the number of subordonates as their salary is now computed with salary_employee ; but it works.\n",
    "\n",
    "Can I use the function salary_manager with get_sum_all_salary_salary ?"
   ]
  },
  {
   "cell_type": "code",
   "execution_count": 6,
   "metadata": {},
   "outputs": [
    {
     "ename": "AttributeError",
     "evalue": "'Employee' object has no attribute 'number_of_subordonates'",
     "output_type": "error",
     "traceback": [
      "\u001b[0;31m---------------------------------------------------------------------------\u001b[0m",
      "\u001b[0;31mAttributeError\u001b[0m                            Traceback (most recent call last)",
      "Cell \u001b[0;32mIn[6], line 3\u001b[0m\n\u001b[1;32m      1\u001b[0m \u001b[38;5;28mprint\u001b[39m(\n\u001b[1;32m      2\u001b[0m     \u001b[38;5;124m\"\u001b[39m\u001b[38;5;124mTotal salary of all my salaries (but computed as managers) :\u001b[39m\u001b[38;5;124m\"\u001b[39m,\n\u001b[0;32m----> 3\u001b[0m     \u001b[43mget_sum_all_employee_salary\u001b[49m\u001b[43m(\u001b[49m\u001b[43msalary\u001b[49m\u001b[38;5;241;43m=\u001b[39;49m\u001b[43msalary_manager\u001b[49m\u001b[43m)\u001b[49m,\n\u001b[1;32m      4\u001b[0m )\n",
      "Cell \u001b[0;32mIn[2], line 10\u001b[0m, in \u001b[0;36msum_all_employee_salary\u001b[0;34m(tup, salary)\u001b[0m\n\u001b[1;32m      7\u001b[0m \u001b[38;5;28;01mdef\u001b[39;00m\u001b[38;5;250m \u001b[39m\u001b[38;5;21msum_all_employee_salary\u001b[39m(\n\u001b[1;32m      8\u001b[0m     tup: \u001b[38;5;28mtuple\u001b[39m[Employee], salary: Callable[[Employee], \u001b[38;5;28mfloat\u001b[39m]\n\u001b[1;32m      9\u001b[0m ) \u001b[38;5;241m-\u001b[39m\u001b[38;5;241m>\u001b[39m \u001b[38;5;28mfloat\u001b[39m:\n\u001b[0;32m---> 10\u001b[0m     \u001b[38;5;28;01mreturn\u001b[39;00m \u001b[38;5;28;43msum\u001b[39;49m\u001b[43m(\u001b[49m\u001b[43msalary\u001b[49m\u001b[43m(\u001b[49m\u001b[43mx\u001b[49m\u001b[43m)\u001b[49m\u001b[43m \u001b[49m\u001b[38;5;28;43;01mfor\u001b[39;49;00m\u001b[43m \u001b[49m\u001b[43mx\u001b[49m\u001b[43m \u001b[49m\u001b[38;5;129;43;01min\u001b[39;49;00m\u001b[43m \u001b[49m\u001b[43mtup\u001b[49m\u001b[43m)\u001b[49m\n",
      "Cell \u001b[0;32mIn[2], line 10\u001b[0m, in \u001b[0;36m<genexpr>\u001b[0;34m(.0)\u001b[0m\n\u001b[1;32m      7\u001b[0m \u001b[38;5;28;01mdef\u001b[39;00m\u001b[38;5;250m \u001b[39m\u001b[38;5;21msum_all_employee_salary\u001b[39m(\n\u001b[1;32m      8\u001b[0m     tup: \u001b[38;5;28mtuple\u001b[39m[Employee], salary: Callable[[Employee], \u001b[38;5;28mfloat\u001b[39m]\n\u001b[1;32m      9\u001b[0m ) \u001b[38;5;241m-\u001b[39m\u001b[38;5;241m>\u001b[39m \u001b[38;5;28mfloat\u001b[39m:\n\u001b[0;32m---> 10\u001b[0m     \u001b[38;5;28;01mreturn\u001b[39;00m \u001b[38;5;28msum\u001b[39m(\u001b[43msalary\u001b[49m\u001b[43m(\u001b[49m\u001b[43mx\u001b[49m\u001b[43m)\u001b[49m \u001b[38;5;28;01mfor\u001b[39;00m x \u001b[38;5;129;01min\u001b[39;00m tup)\n",
      "Cell \u001b[0;32mIn[1], line 22\u001b[0m, in \u001b[0;36msalary_manager\u001b[0;34m(manager)\u001b[0m\n\u001b[1;32m     21\u001b[0m \u001b[38;5;28;01mdef\u001b[39;00m\u001b[38;5;250m \u001b[39m\u001b[38;5;21msalary_manager\u001b[39m(manager: Manager) \u001b[38;5;241m-\u001b[39m\u001b[38;5;241m>\u001b[39m \u001b[38;5;28mfloat\u001b[39m:\n\u001b[0;32m---> 22\u001b[0m     \u001b[38;5;28;01mreturn\u001b[39;00m manager\u001b[38;5;241m.\u001b[39mbase_salary \u001b[38;5;241m+\u001b[39m \u001b[38;5;241m100\u001b[39m \u001b[38;5;241m*\u001b[39m \u001b[43mmanager\u001b[49m\u001b[38;5;241;43m.\u001b[39;49m\u001b[43mnumber_of_subordonates\u001b[49m\n",
      "\u001b[0;31mAttributeError\u001b[0m: 'Employee' object has no attribute 'number_of_subordonates'"
     ]
    }
   ],
   "source": [
    "print(\n",
    "    \"Total salary of all my salaries (but computed as managers) :\",\n",
    "    get_sum_all_employee_salary(salary=salary_manager),\n",
    ")"
   ]
  },
  {
   "cell_type": "markdown",
   "metadata": {
    "vscode": {
     "languageId": "raw"
    }
   },
   "source": [
    "Salary_manager compute the salary of a manager using number_of_subordonates which don't exist for an employee not manager so it can't work...\n",
    "\n",
    "Well, I can use salary_employee instead of salary_manager but (in general) not salary_manager instead of salary_employee so callable[[Employee], float] is a (strict) subtype of callable[[Manager], float].\n",
    "\n",
    "Another way to understand this is that (here) I have only one way to compute the salary of an employee (not manager) base_salary but many ways to compute the salary of a manager, for example :\n",
    "\n",
    "base_salary + 100 * number_of_subordonates\n",
    "base_salary + 200 * number_of_subordonates\n",
    "base_salary + 200 * log(number_of_subordonates)\n",
    "base_salary\n",
    "The set of Callable[[Manager], float] (for the computing of a salary) is enormous while the set of Callable[[Employee], float] is a singleton (from a mathematical perspective for the computing of a salary) included in the set of Callable[[Manager], float]."
   ]
  }
 ],
 "metadata": {
  "kernelspec": {
   "display_name": "blog-6oKgwDRr-py3.12",
   "language": "python",
   "name": "python3"
  },
  "language_info": {
   "codemirror_mode": {
    "name": "ipython",
    "version": 3
   },
   "file_extension": ".py",
   "mimetype": "text/x-python",
   "name": "python",
   "nbconvert_exporter": "python",
   "pygments_lexer": "ipython3",
   "version": "3.12.1"
  }
 },
 "nbformat": 4,
 "nbformat_minor": 2
}

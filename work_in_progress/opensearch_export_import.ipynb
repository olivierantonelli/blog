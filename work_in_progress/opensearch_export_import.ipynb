{
 "cells": [
  {
   "cell_type": "markdown",
   "id": "a582bf35",
   "metadata": {},
   "source": [
    "# To export/import an opensearch index, either use directly opensearchpy"
   ]
  },
  {
   "cell_type": "code",
   "execution_count": null,
   "id": "f8fae698",
   "metadata": {},
   "outputs": [],
   "source": [
    "from opensearchpy import OpenSearch\n",
    "from opensearchpy.helpers import bulk\n",
    "import pandas as pd\n",
    "\n",
    "# Connect to OpenSearch\n",
    "client = OpenSearch(hosts=[{\"host\": \"localhost\", \"port\": 9200}], http_compress=True)\n",
    "\n",
    "# Query all documents from the index\n",
    "index_name = \"ind_name\"\n",
    "query = {\"query\": {\"match_all\": {}}}\n",
    "\n",
    "# Use the search() method with scroll for large datasets\n",
    "results = client.search(index=index_name, body=query, size=10000)\n",
    "hits = results[\"hits\"][\"hits\"]\n",
    "\n",
    "# Convert to DataFrame\n",
    "docs = [hit[\"_source\"] for hit in hits]\n",
    "df = pd.DataFrame(docs)\n",
    "\n",
    "# Export to CSV\n",
    "df.to_csv(\"ind_name.csv\", index=False)\n",
    "\n",
    "client.indices.delete(index=index_name)\n",
    "\n",
    "actions = [\n",
    "    {\"_index\": index_name, \"_source\": doc.dropna().to_dict()}\n",
    "    for _, doc in df.iterrows()\n",
    "]\n",
    "\n",
    "bulk(client, actions)"
   ]
  },
  {
   "cell_type": "markdown",
   "id": "b20a8b74",
   "metadata": {},
   "source": [
    "# Or use awswrangler"
   ]
  },
  {
   "cell_type": "code",
   "execution_count": null,
   "id": "731c8a10",
   "metadata": {},
   "outputs": [],
   "source": [
    "# Export and import an index in OpenSearch using AWS Wrangler (python 3.12.3)\n",
    "# uv add awswrangler[opensearch] ipykernel awscli\n",
    "# \"aws configure\" for awswrangler to work\n",
    "import awswrangler as wr\n",
    "\n",
    "oc = wr.opensearch.connect(host=\"localhost\", port=9200)\n",
    "results = wr.opensearch.search(\n",
    "    oc,\n",
    "    index=\"ind_name\",\n",
    "    size=10000,\n",
    ")\n",
    "results.to_csv(\"ind_name.csv\", index=False)\n",
    "wr.opensearch.delete_index(\n",
    "    oc,\n",
    "    index=\"ind_name\",\n",
    ")\n",
    "wr.opensearch.index_csv(\n",
    "    oc,\n",
    "    path=\"ind_name.csv\",\n",
    "    index=\"ind_name\",\n",
    ")"
   ]
  },
  {
   "cell_type": "markdown",
   "id": "81b3a060",
   "metadata": {},
   "source": [
    "# Or opensearch-py-ml"
   ]
  },
  {
   "cell_type": "code",
   "execution_count": null,
   "id": "504f8779",
   "metadata": {},
   "outputs": [],
   "source": [
    "import opensearch_py_ml as oml\n",
    "from opensearch_py_ml.etl import csv_to_opensearch\n",
    "import pandas as pd\n",
    "from opensearchpy import OpenSearch\n",
    "\n",
    "\n",
    "client = OpenSearch(hosts=[{\"host\": \"localhost\", \"port\": 9200}])\n",
    "odf = oml.DataFrame(client, \"ind_name\")\n",
    "odf.to_csv(\"ind_name.csv\", index=False)"
   ]
  },
  {
   "cell_type": "code",
   "execution_count": null,
   "id": "04b2b1aa",
   "metadata": {},
   "outputs": [],
   "source": [
    "client.indices.delete(index=index_name)"
   ]
  },
  {
   "cell_type": "code",
   "execution_count": null,
   "id": "224e588f",
   "metadata": {},
   "outputs": [],
   "source": [
    "csv_to_opensearch(\"ind_name.csv\", client, \"ind_name\")"
   ]
  }
 ],
 "metadata": {
  "kernelspec": {
   "display_name": "jupyter-notebook",
   "language": "python",
   "name": "python3"
  },
  "language_info": {
   "codemirror_mode": {
    "name": "ipython",
    "version": 3
   },
   "file_extension": ".py",
   "mimetype": "text/x-python",
   "name": "python",
   "nbconvert_exporter": "python",
   "pygments_lexer": "ipython3",
   "version": "3.12.3"
  }
 },
 "nbformat": 4,
 "nbformat_minor": 5
}

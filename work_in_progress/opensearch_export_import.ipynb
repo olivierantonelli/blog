{
 "cells": [
  {
   "cell_type": "markdown",
   "id": "a582bf35",
   "metadata": {},
   "source": [
    "# How to export/import an opensearch index"
   ]
  },
  {
   "cell_type": "markdown",
   "id": "636d7c85",
   "metadata": {},
   "source": [
    "## Either use directly opensearchpy"
   ]
  },
  {
   "cell_type": "code",
   "execution_count": null,
   "id": "401f21c1",
   "metadata": {},
   "outputs": [],
   "source": [
    "import json\n",
    "from opensearchpy import OpenSearch\n",
    "from opensearchpy.helpers import bulk\n",
    "\n",
    "\n",
    "client = OpenSearch(hosts=[{\"host\": \"localhost\", \"port\": 9200}], http_compress=True)\n",
    "\n",
    "query = {\"size\": 10000, \"query\": {\"match_all\": {}}}\n",
    "search_result = client.search(index=\"ind_name\", body=query)\n",
    "\n",
    "with open(\"ind_name.json\", \"w\") as file:\n",
    "    json.dump(search_result, file)\n",
    "\n",
    "client.indices.delete(index=\"ind_name\")\n",
    "\n",
    "with open(\"ind_name.json\", \"r\") as file:\n",
    "    data = json.load(file)\n",
    "\n",
    "# Prepare bulk indexing data\n",
    "actions = [\n",
    "    {\n",
    "        \"_source\": doc[\"_source\"],\n",
    "    }\n",
    "    for doc in data[\"hits\"][\"hits\"]\n",
    "]\n",
    "\n",
    "bulk(client, actions, index=\"ind_name\")"
   ]
  },
  {
   "cell_type": "markdown",
   "id": "b20a8b74",
   "metadata": {},
   "source": [
    "## Or use awswrangler"
   ]
  },
  {
   "cell_type": "code",
   "execution_count": null,
   "id": "731c8a10",
   "metadata": {},
   "outputs": [],
   "source": [
    "# Export and import an index in OpenSearch using AWS Wrangler (python 3.12.3)\n",
    "# uv add awswrangler[opensearch] ipykernel awscli\n",
    "# \"aws configure\" for awswrangler to work\n",
    "import awswrangler as wr\n",
    "\n",
    "oc = wr.opensearch.connect(host=\"localhost\", port=9200)\n",
    "results = wr.opensearch.search(\n",
    "    oc,\n",
    "    index=\"ind_name\",\n",
    "    size=10000,\n",
    ")\n",
    "results.to_csv(\"ind_name.csv\", index=False)\n",
    "wr.opensearch.delete_index(\n",
    "    oc,\n",
    "    index=\"ind_name\",\n",
    ")\n",
    "wr.opensearch.index_csv(\n",
    "    oc,\n",
    "    path=\"ind_name.csv\",\n",
    "    index=\"ind_name\",\n",
    ")"
   ]
  },
  {
   "cell_type": "markdown",
   "id": "2eba9a0a",
   "metadata": {},
   "source": [
    "## Or opensearch-py-ml"
   ]
  },
  {
   "cell_type": "code",
   "execution_count": null,
   "id": "d051271a",
   "metadata": {},
   "outputs": [],
   "source": [
    "import opensearch_py_ml as oml\n",
    "import pandas as pd\n",
    "from opensearchpy import OpenSearch\n",
    "\n",
    "client = OpenSearch(hosts=[{\"host\": \"localhost\", \"port\": 9200}])\n",
    "odf = oml.DataFrame(client, \"ind_name\")\n",
    "odf.to_pandas().to_parquet(\"ind_name.parquet\")\n",
    "pdf = pd.read_parquet(\"ind_name.parquet\")\n",
    "oml.etl.pandas_to_opensearch(\n",
    "    odf.to_pandas(),\n",
    "    client,\n",
    "    \"ind_named\",\n",
    "    os_dropna=True,\n",
    "    os_verify_mapping_compatibility=False,\n",
    "    os_if_exists=\"append\",\n",
    ")"
   ]
  }
 ],
 "metadata": {
  "kernelspec": {
   "display_name": "jupyter-notebook",
   "language": "python",
   "name": "python3"
  },
  "language_info": {
   "codemirror_mode": {
    "name": "ipython",
    "version": 3
   },
   "file_extension": ".py",
   "mimetype": "text/x-python",
   "name": "python",
   "nbconvert_exporter": "python",
   "pygments_lexer": "ipython3",
   "version": "3.12.3"
  }
 },
 "nbformat": 4,
 "nbformat_minor": 5
}

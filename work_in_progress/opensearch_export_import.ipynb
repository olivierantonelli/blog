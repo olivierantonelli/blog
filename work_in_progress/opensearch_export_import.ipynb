{
 "cells": [
  {
   "cell_type": "markdown",
   "id": "a582bf35",
   "metadata": {},
   "source": [
    "# To export/import an opensearch index, either use directly opensearchpy"
   ]
  },
  {
   "cell_type": "code",
   "execution_count": 41,
   "id": "401f21c1",
   "metadata": {},
   "outputs": [
    {
     "data": {
      "text/plain": [
       "(406, [])"
      ]
     },
     "execution_count": 41,
     "metadata": {},
     "output_type": "execute_result"
    }
   ],
   "source": [
    "import json\n",
    "from opensearchpy import OpenSearch\n",
    "from opensearchpy.helpers import bulk\n",
    "\n",
    "\n",
    "client = OpenSearch(hosts=[{\"host\": \"localhost\", \"port\": 9200}], http_compress=True)\n",
    "\n",
    "query = {\"size\": 10000, \"query\": {\"match_all\": {}}}\n",
    "search_result = client.search(index=\"ind_name\", body=query)\n",
    "\n",
    "with open(\"ind_name.json\", \"w\") as file:\n",
    "    json.dump(search_result, file)\n",
    "\n",
    "client.indices.delete(index=\"ind_name\")\n",
    "\n",
    "with open(\"ind_name.json\", \"r\") as file:\n",
    "    data = json.load(file)\n",
    "\n",
    "# Prepare bulk indexing data\n",
    "actions = [\n",
    "    {\n",
    "        \"_source\": doc[\"_source\"],\n",
    "    }\n",
    "    for doc in data[\"hits\"][\"hits\"]\n",
    "]\n",
    "\n",
    "bulk(client, actions, index=\"ind_name\")"
   ]
  },
  {
   "cell_type": "markdown",
   "id": "b20a8b74",
   "metadata": {},
   "source": [
    "# Or use awswrangler"
   ]
  },
  {
   "cell_type": "code",
   "execution_count": 42,
   "id": "731c8a10",
   "metadata": {},
   "outputs": [
    {
     "data": {
      "text/plain": [
       "{'success': 406, 'errors': []}"
      ]
     },
     "execution_count": 42,
     "metadata": {},
     "output_type": "execute_result"
    }
   ],
   "source": [
    "# Export and import an index in OpenSearch using AWS Wrangler (python 3.12.3)\n",
    "# uv add awswrangler[opensearch] ipykernel awscli\n",
    "# \"aws configure\" for awswrangler to work\n",
    "import awswrangler as wr\n",
    "\n",
    "oc = wr.opensearch.connect(host=\"localhost\", port=9200)\n",
    "results = wr.opensearch.search(\n",
    "    oc,\n",
    "    index=\"ind_name\",\n",
    "    size=10000,\n",
    ")\n",
    "results.to_csv(\"ind_name.csv\", index=False)\n",
    "wr.opensearch.delete_index(\n",
    "    oc,\n",
    "    index=\"ind_name\",\n",
    ")\n",
    "wr.opensearch.index_csv(\n",
    "    oc,\n",
    "    path=\"ind_name.csv\",\n",
    "    index=\"ind_name\",\n",
    ")"
   ]
  }
 ],
 "metadata": {
  "kernelspec": {
   "display_name": "jupyter-notebook",
   "language": "python",
   "name": "python3"
  },
  "language_info": {
   "codemirror_mode": {
    "name": "ipython",
    "version": 3
   },
   "file_extension": ".py",
   "mimetype": "text/x-python",
   "name": "python",
   "nbconvert_exporter": "python",
   "pygments_lexer": "ipython3",
   "version": "3.12.3"
  }
 },
 "nbformat": 4,
 "nbformat_minor": 5
}

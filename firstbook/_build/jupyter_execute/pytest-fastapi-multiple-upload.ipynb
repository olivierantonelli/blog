{
 "cells": [
  {
   "cell_type": "markdown",
   "metadata": {},
   "source": [
    "### Tests pytest with FastAPI with multiple uploads"
   ]
  },
  {
   "cell_type": "code",
   "execution_count": 1,
   "metadata": {},
   "outputs": [],
   "source": [
    "# For the first execution\n",
    "#!pip install fastapi pytest ipytest httpx python-multipart\n",
    "#!touch file1.txt\n",
    "#!touch file2.txt"
   ]
  },
  {
   "cell_type": "code",
   "execution_count": 2,
   "metadata": {},
   "outputs": [],
   "source": [
    "import ipytest\n",
    "from fastapi import FastAPI\n",
    "from fastapi.testclient import TestClient\n",
    "from fastapi import UploadFile"
   ]
  },
  {
   "cell_type": "code",
   "execution_count": 3,
   "metadata": {},
   "outputs": [],
   "source": [
    "app = FastAPI()\n",
    "\n",
    "\n",
    "@app.post(\"/\")\n",
    "async def post_main(files: list[UploadFile]):\n",
    "    return [file.filename for file in files]"
   ]
  },
  {
   "cell_type": "code",
   "execution_count": 4,
   "metadata": {},
   "outputs": [],
   "source": [
    "client = TestClient(app)\n",
    "\n",
    "\n",
    "def test_post_main():\n",
    "    response = client.post(\n",
    "        \"/\",\n",
    "        files=[\n",
    "            (\"files\", open(\"file1.txt\", \"rb\")),\n",
    "            (\"files\", open(\"file2.txt\", \"rb\")),\n",
    "        ],\n",
    "    )\n",
    "    assert response.status_code == 200\n",
    "    assert response.json() == [\"file1.txt\", \"file2.txt\"]"
   ]
  },
  {
   "cell_type": "code",
   "execution_count": 5,
   "metadata": {},
   "outputs": [
    {
     "name": "stdout",
     "output_type": "stream",
     "text": [
      "\u001b[1m======================================= test session starts ========================================\u001b[0m\n",
      "platform linux -- Python 3.12.1, pytest-8.3.4, pluggy-1.5.0\n",
      "rootdir: /workspaces/blog\n",
      "configfile: pyproject.toml\n",
      "plugins: anyio-4.8.0\n",
      "collected 1 item\n",
      "\n",
      "t_a905a769cfec4e8d8cacef4a27b52fea.py "
     ]
    },
    {
     "name": "stdout",
     "output_type": "stream",
     "text": [
      "\u001b[31mF\u001b[0m"
     ]
    },
    {
     "name": "stdout",
     "output_type": "stream",
     "text": [
      "\u001b[31m                                                      [100%]\u001b[0m"
     ]
    },
    {
     "name": "stdout",
     "output_type": "stream",
     "text": [
      "\n",
      "\n",
      "============================================= FAILURES =============================================\n",
      "\u001b[31m\u001b[1m__________________________________________ test_post_main __________________________________________\u001b[0m\n",
      "\n",
      "    \u001b[0m\u001b[94mdef\u001b[39;49;00m\u001b[90m \u001b[39;49;00m\u001b[92mtest_post_main\u001b[39;49;00m():\u001b[90m\u001b[39;49;00m\n",
      "        response = client.post(\u001b[90m\u001b[39;49;00m\n",
      "            \u001b[33m\"\u001b[39;49;00m\u001b[33m/\u001b[39;49;00m\u001b[33m\"\u001b[39;49;00m,\u001b[90m\u001b[39;49;00m\n",
      "            files=[\u001b[90m\u001b[39;49;00m\n",
      ">               (\u001b[33m\"\u001b[39;49;00m\u001b[33mfiles\u001b[39;49;00m\u001b[33m\"\u001b[39;49;00m, \u001b[96mopen\u001b[39;49;00m(\u001b[33m\"\u001b[39;49;00m\u001b[33mfile1.txt\u001b[39;49;00m\u001b[33m\"\u001b[39;49;00m, \u001b[33m\"\u001b[39;49;00m\u001b[33mrb\u001b[39;49;00m\u001b[33m\"\u001b[39;49;00m)),\u001b[90m\u001b[39;49;00m\n",
      "                (\u001b[33m\"\u001b[39;49;00m\u001b[33mfiles\u001b[39;49;00m\u001b[33m\"\u001b[39;49;00m, \u001b[96mopen\u001b[39;49;00m(\u001b[33m\"\u001b[39;49;00m\u001b[33mfile2.txt\u001b[39;49;00m\u001b[33m\"\u001b[39;49;00m, \u001b[33m\"\u001b[39;49;00m\u001b[33mrb\u001b[39;49;00m\u001b[33m\"\u001b[39;49;00m)),\u001b[90m\u001b[39;49;00m\n",
      "            ],\u001b[90m\u001b[39;49;00m\n",
      "        )\u001b[90m\u001b[39;49;00m\n",
      "\n",
      "\u001b[1m\u001b[31m/tmp/ipykernel_16007/1963879769.py\u001b[0m:8: \n",
      "_ _ _ _ _ _ _ _ _ _ _ _ _ _ _ _ _ _ _ _ _ _ _ _ _ _ _ _ _ _ _ _ _ _ _ _ _ _ _ _ _ _ _ _ _ _ _ _ _ _ \n",
      "\n",
      "file = 'file1.txt', args = ('rb',), kwargs = {}\n",
      "\n",
      "    \u001b[0m\u001b[37m@functools\u001b[39;49;00m.wraps(io_open)\u001b[90m\u001b[39;49;00m\n",
      "    \u001b[94mdef\u001b[39;49;00m\u001b[90m \u001b[39;49;00m\u001b[92m_modified_open\u001b[39;49;00m(file, *args, **kwargs):\u001b[90m\u001b[39;49;00m\n",
      "        \u001b[94mif\u001b[39;49;00m file \u001b[95min\u001b[39;49;00m {\u001b[94m0\u001b[39;49;00m, \u001b[94m1\u001b[39;49;00m, \u001b[94m2\u001b[39;49;00m}:\u001b[90m\u001b[39;49;00m\n",
      "            \u001b[94mraise\u001b[39;49;00m \u001b[96mValueError\u001b[39;49;00m(\u001b[90m\u001b[39;49;00m\n",
      "                \u001b[33mf\u001b[39;49;00m\u001b[33m\"\u001b[39;49;00m\u001b[33mIPython won\u001b[39;49;00m\u001b[33m'\u001b[39;49;00m\u001b[33mt let you open fd=\u001b[39;49;00m\u001b[33m{\u001b[39;49;00mfile\u001b[33m}\u001b[39;49;00m\u001b[33m by default \u001b[39;49;00m\u001b[33m\"\u001b[39;49;00m\u001b[90m\u001b[39;49;00m\n",
      "                \u001b[33m\"\u001b[39;49;00m\u001b[33mas it is likely to crash IPython. If you know what you are doing, \u001b[39;49;00m\u001b[33m\"\u001b[39;49;00m\u001b[90m\u001b[39;49;00m\n",
      "                \u001b[33m\"\u001b[39;49;00m\u001b[33myou can use builtins\u001b[39;49;00m\u001b[33m'\u001b[39;49;00m\u001b[33m open.\u001b[39;49;00m\u001b[33m\"\u001b[39;49;00m\u001b[90m\u001b[39;49;00m\n",
      "            )\u001b[90m\u001b[39;49;00m\n",
      "    \u001b[90m\u001b[39;49;00m\n",
      ">       \u001b[94mreturn\u001b[39;49;00m io_open(file, *args, **kwargs)\u001b[90m\u001b[39;49;00m\n",
      "\u001b[1m\u001b[31mE       FileNotFoundError: [Errno 2] No such file or directory: 'file1.txt'\u001b[0m\n",
      "\n",
      "\u001b[1m\u001b[31m/home/codespace/.cache/pypoetry/virtualenvs/blog-6oKgwDRr-py3.12/lib/python3.12/site-packages/IPython/core/interactiveshell.py\u001b[0m:324: FileNotFoundError\n",
      "\u001b[36m\u001b[1m===================================== short test summary info ======================================\u001b[0m\n",
      "\u001b[31mFAILED\u001b[0m t_a905a769cfec4e8d8cacef4a27b52fea.py::\u001b[1mtest_post_main\u001b[0m - FileNotFoundError: [Errno 2] No such file or directory: 'file1.txt'\n",
      "\u001b[31m======================================== \u001b[31m\u001b[1m1 failed\u001b[0m\u001b[31m in 0.14s\u001b[0m\u001b[31m =========================================\u001b[0m\n"
     ]
    },
    {
     "data": {
      "text/plain": [
       "<ExitCode.TESTS_FAILED: 1>"
      ]
     },
     "execution_count": 5,
     "metadata": {},
     "output_type": "execute_result"
    }
   ],
   "source": [
    "ipytest.run(\"-W ignore:Module already imported:pytest.PytestWarning\")"
   ]
  }
 ],
 "metadata": {
  "kernelspec": {
   "display_name": "document-extractor-2bhEDwYi-py3.12",
   "language": "python",
   "name": "python3"
  },
  "language_info": {
   "codemirror_mode": {
    "name": "ipython",
    "version": 3
   },
   "file_extension": ".py",
   "mimetype": "text/x-python",
   "name": "python",
   "nbconvert_exporter": "python",
   "pygments_lexer": "ipython3",
   "version": "3.12.1"
  }
 },
 "nbformat": 4,
 "nbformat_minor": 2
}
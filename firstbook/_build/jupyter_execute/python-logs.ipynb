{
 "cells": [
  {
   "cell_type": "markdown",
   "metadata": {},
   "source": [
    "### Test python log generation in a notebook"
   ]
  },
  {
   "cell_type": "code",
   "execution_count": 1,
   "metadata": {},
   "outputs": [],
   "source": [
    "import logging\n",
    "import sys"
   ]
  },
  {
   "cell_type": "markdown",
   "metadata": {},
   "source": [
    "By default the logging output is sys.stderr.\n",
    "\n",
    "To display the output in the notebook, we change this to sys.stdout."
   ]
  },
  {
   "cell_type": "code",
   "execution_count": 2,
   "metadata": {},
   "outputs": [
    {
     "name": "stdout",
     "output_type": "stream",
     "text": [
      "WARNING:test_logger:Logging test\n"
     ]
    }
   ],
   "source": [
    "logging.basicConfig(stream=sys.stdout)\n",
    "\n",
    "logger = logging.getLogger(\"test_logger\")\n",
    "logger.warning(\"Logging test\")"
   ]
  }
 ],
 "metadata": {
  "kernelspec": {
   "display_name": "blog-6oKgwDRr-py3.12",
   "language": "python",
   "name": "python3"
  },
  "language_info": {
   "codemirror_mode": {
    "name": "ipython",
    "version": 3
   },
   "file_extension": ".py",
   "mimetype": "text/x-python",
   "name": "python",
   "nbconvert_exporter": "python",
   "pygments_lexer": "ipython3",
   "version": "3.12.1"
  }
 },
 "nbformat": 4,
 "nbformat_minor": 2
}
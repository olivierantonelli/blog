{
 "cells": [
  {
   "cell_type": "markdown",
   "id": "9a255681",
   "metadata": {},
   "source": [
    "# Methods for creating a basic chatbot in a Jupyter notebook"
   ]
  },
  {
   "cell_type": "markdown",
   "id": "9b2b0ca3",
   "metadata": {},
   "source": [
    "## For a text chatbot"
   ]
  },
  {
   "cell_type": "code",
   "execution_count": 8,
   "id": "37ecfc93",
   "metadata": {},
   "outputs": [
    {
     "name": "stdout",
     "output_type": "stream",
     "text": [
      "You entered Hi!\n",
      "You entered exit\n"
     ]
    }
   ],
   "source": [
    "while True:\n",
    "    query = input(\"Enter something: \")\n",
    "    print(f\"You entered {query}\")\n",
    "    if \"exit\" in query:\n",
    "        break"
   ]
  },
  {
   "cell_type": "markdown",
   "id": "d0c9c359",
   "metadata": {},
   "source": [
    "## For a chatbot in the notebook"
   ]
  },
  {
   "cell_type": "code",
   "execution_count": null,
   "id": "e25812b1",
   "metadata": {},
   "outputs": [],
   "source": [
    "import ipywidgets\n",
    "\n",
    "in_text = ipywidgets.Text()\n",
    "in_text.continuous_update = False\n",
    "output = ipywidgets.Output()\n",
    "\n",
    "\n",
    "def on_text_change(change):\n",
    "    with output:\n",
    "        print(f\"Entered text: {change['new']}\")\n",
    "\n",
    "\n",
    "in_text.observe(on_text_change, \"value\")\n",
    "display(output, in_text)"
   ]
  }
 ],
 "metadata": {
  "kernelspec": {
   "display_name": "jupyter-notebook",
   "language": "python",
   "name": "python3"
  },
  "language_info": {
   "codemirror_mode": {
    "name": "ipython",
    "version": 3
   },
   "file_extension": ".py",
   "mimetype": "text/x-python",
   "name": "python",
   "nbconvert_exporter": "python",
   "pygments_lexer": "ipython3",
   "version": "3.12.3"
  }
 },
 "nbformat": 4,
 "nbformat_minor": 5
}

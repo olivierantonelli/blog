{
 "cells": [
  {
   "cell_type": "markdown",
   "metadata": {},
   "source": [
    "# Tests pytest with FastAPI with multiple uploads"
   ]
  },
  {
   "cell_type": "code",
   "execution_count": null,
   "metadata": {},
   "outputs": [],
   "source": [
    "!pip install fastapi pytest ipytest httpx python-multipart\n",
    "!touch file1.txt\n",
    "!touch file2.txt"
   ]
  },
  {
   "cell_type": "code",
   "execution_count": 2,
   "metadata": {},
   "outputs": [],
   "source": [
    "import ipytest\n",
    "from fastapi import FastAPI\n",
    "from fastapi.testclient import TestClient\n",
    "from fastapi import UploadFile"
   ]
  },
  {
   "cell_type": "code",
   "execution_count": 3,
   "metadata": {},
   "outputs": [],
   "source": [
    "app = FastAPI()\n",
    "\n",
    "\n",
    "@app.post(\"/\")\n",
    "async def post_main(files: list[UploadFile]):\n",
    "    return [file.filename for file in files]"
   ]
  },
  {
   "cell_type": "code",
   "execution_count": 4,
   "metadata": {},
   "outputs": [],
   "source": [
    "client = TestClient(app)\n",
    "\n",
    "\n",
    "def test_post_main():\n",
    "    response = client.post(\n",
    "        \"/\",\n",
    "        files=[\n",
    "            (\"files\", open(\"file1.txt\", \"rb\")),\n",
    "            (\"files\", open(\"file2.txt\", \"rb\")),\n",
    "        ],\n",
    "    )\n",
    "    assert response.status_code == 200\n",
    "    assert response.json() == [\"file1.txt\", \"file2.txt\"]"
   ]
  },
  {
   "cell_type": "code",
   "execution_count": 5,
   "metadata": {},
   "outputs": [
    {
     "name": "stdout",
     "output_type": "stream",
     "text": [
      "\u001b[1m======================================= test session starts ========================================\u001b[0m\n",
      "platform linux -- Python 3.12.3, pytest-8.3.4, pluggy-1.5.0\n",
      "rootdir: /home/olivier/git-repo/document-extractor\n",
      "configfile: pyproject.toml\n",
      "plugins: dotenv-0.5.2, mock-3.14.0, timeout-2.3.1, cov-6.0.0, env-1.1.5, anyio-4.7.0\n",
      "collected 1 item\n",
      "\n",
      "t_ded9c4dd545e47aaaac130d87462523c.py \u001b[32m.\u001b[0m\u001b[32m                                                      [100%]\u001b[0m\n",
      "\n",
      "\u001b[32m======================================== \u001b[32m\u001b[1m1 passed\u001b[0m\u001b[32m in 0.07s\u001b[0m\u001b[32m =========================================\u001b[0m\n"
     ]
    },
    {
     "data": {
      "text/plain": [
       "<ExitCode.OK: 0>"
      ]
     },
     "execution_count": 5,
     "metadata": {},
     "output_type": "execute_result"
    }
   ],
   "source": [
    "ipytest.run(\"-W ignore:Module already imported:pytest.PytestWarning\")"
   ]
  }
 ],
 "metadata": {
  "kernelspec": {
   "display_name": "blog-6oKgwDRr-py3.12",
   "language": "python",
   "name": "python3"
  },
  "language_info": {
   "codemirror_mode": {
    "name": "ipython",
    "version": 3
   },
   "file_extension": ".py",
   "mimetype": "text/x-python",
   "name": "python",
   "nbconvert_exporter": "python",
   "pygments_lexer": "ipython3",
   "version": "3.12.1"
  }
 },
 "nbformat": 4,
 "nbformat_minor": 2
}
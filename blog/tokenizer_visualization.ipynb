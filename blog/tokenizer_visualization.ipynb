{
 "cells": [
  {
   "cell_type": "markdown",
   "id": "507c6bb7",
   "metadata": {},
   "source": [
    "# Basic tokenizer visualization"
   ]
  },
  {
   "cell_type": "code",
   "execution_count": 60,
   "id": "c3906306",
   "metadata": {},
   "outputs": [
    {
     "name": "stdout",
     "output_type": "stream",
     "text": [
      "\u001b[41;30mThis\u001b[42;30m is\u001b[43;30m an\u001b[44;30m example\u001b[41;30m text\u001b[42;30m."
     ]
    }
   ],
   "source": [
    "from transformers import AutoModelForCausalLM, AutoTokenizer\n",
    "from itertools import cycle\n",
    "\n",
    "colors = cycle(\n",
    "    [\n",
    "        \"41\",  # Red background\n",
    "        \"42\",  # Green background\n",
    "        \"43\",  # Yellow background\n",
    "        \"44\",  # Blue background\n",
    "    ]\n",
    ")\n",
    "\n",
    "tokenizer_name = \"Xenova/gpt-4\"\n",
    "text = \"This is an example text.\"\n",
    "\n",
    "tokenizer = AutoTokenizer.from_pretrained(tokenizer_name)\n",
    "token_ids = tokenizer(text).input_ids\n",
    "\n",
    "for token_id in token_ids:\n",
    "    token = tokenizer.decode(token_id)\n",
    "    color = next(colors)\n",
    "    print(f\"\\033[{color};30m\" + token, end=\"\")"
   ]
  }
 ],
 "metadata": {
  "kernelspec": {
   "display_name": "jupyter-notebook",
   "language": "python",
   "name": "python3"
  },
  "language_info": {
   "codemirror_mode": {
    "name": "ipython",
    "version": 3
   },
   "file_extension": ".py",
   "mimetype": "text/x-python",
   "name": "python",
   "nbconvert_exporter": "python",
   "pygments_lexer": "ipython3",
   "version": "3.12.3"
  }
 },
 "nbformat": 4,
 "nbformat_minor": 5
}
